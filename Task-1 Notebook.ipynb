{
  "cells": [
    {
      "cell_type": "markdown",
      "source": [
        "# Author: __Syed Arsalan Amin__\n",
        "## The Sparks Foundation\n",
        "### DataScience and Business Intelligence Internship\n",
        "Task-1: Predict the percentage of an student based on the no. of study hours.What will be predicted score if a student studies for 9.25 hrs/ day?\n",
        "### Dataset: student_scores - student_scores.csv\n",
        "### Download dataset from here: [student_scores.csv](http://bit.ly/w-data)\n"
      ],
      "metadata": {
        "nteract": {
          "transient": {
            "deleting": false
          }
        }
      }
    },
    {
      "cell_type": "code",
      "source": [
        "from sklearn.linear_model import LinearRegression\n",
        "import numpy as np\n",
        "import matplotlib.pyplot as plt\n",
        "from sklearn.model_selection import train_test_split\n",
        "from sklearn.metrics import mean_absolute_error\n",
        "import pandas as pd\n",
        "import seaborn as sns\n",
        "sns.set()"
      ],
      "outputs": [],
      "execution_count": null,
      "metadata": {
        "collapsed": true,
        "jupyter": {
          "source_hidden": false,
          "outputs_hidden": false
        },
        "nteract": {
          "transient": {
            "deleting": false
          }
        }
      }
    },
    {
      "cell_type": "markdown",
      "source": [
        "## Loading and Exploring dataset\n"
      ],
      "metadata": {
        "nteract": {
          "transient": {
            "deleting": false
          }
        }
      }
    },
    {
      "cell_type": "code",
      "source": [
        "dataset = pd.read_csv(\n",
        "    \"E:\\\\DataScience & AI\\\\Github_repo\\\\datasets\\\\student_scores - student_scores.csv\", delimiter=\",\")  # loading dataset\n",
        "\n",
        "dataset.shape\n",
        "dataset.describe()\n",
        "sns.pairplot(dataset)  # to see correlation between the two features\n",
        "\n",
        "\n",
        "dataset.shape\n",
        "X = dataset.iloc[:, :-1].values\n",
        "y = dataset.iloc[:, 1].values\n",
        "X.shape"
      ],
      "outputs": [],
      "execution_count": null,
      "metadata": {
        "collapsed": true,
        "jupyter": {
          "source_hidden": false,
          "outputs_hidden": false
        },
        "nteract": {
          "transient": {
            "deleting": false
          }
        }
      }
    },
    {
      "cell_type": "markdown",
      "source": [
        "## splitting dataset in train and test set\n"
      ],
      "metadata": {
        "nteract": {
          "transient": {
            "deleting": false
          }
        }
      }
    },
    {
      "cell_type": "code",
      "source": [
        "\n",
        "X_train, X_test, y_train, y_test = train_test_split(\n",
        "    X, y, test_size=0.2)  # splitting in train and test data\n",
        "\n",
        "model = LinearRegression()  # loading model\n",
        "model.fit(X_train, y_train)  # training model\n",
        "\n",
        "y_pred = model.predict(X_test)\n",
        "pd.DataFrame({'Actual_Values': y_test, 'Predicted_values': y_pred})\n"
      ],
      "outputs": [],
      "execution_count": null,
      "metadata": {
        "collapsed": true,
        "jupyter": {
          "source_hidden": false,
          "outputs_hidden": false
        },
        "nteract": {
          "transient": {
            "deleting": false
          }
        }
      }
    },
    {
      "cell_type": "markdown",
      "source": [
        "### Visualizing the data and fiiting line from the trained model\n"
      ],
      "metadata": {
        "nteract": {
          "transient": {
            "deleting": false
          }
        }
      }
    },
    {
      "cell_type": "code",
      "source": [
        "\n",
        "\n",
        "def plot_scatter(x, y):\n",
        "    plt.scatter(dataset[x], dataset[y], c='r')\n",
        "    plt.xlabel(\"Study Hours\")\n",
        "    plt.ylabel(\"Percentage Obtained\")\n",
        "    plt.title(\"Percentage vs Hours Studied\")\n",
        "\n",
        "\n",
        "def plot_line():\n",
        "    # now to use the above data to draw a best-fit line\n",
        "    line = model.coef_ * X_test + model.intercept_\n",
        "    plt.plot(X_test, line)\n",
        "\n",
        "\n",
        "plot_scatter(\"Hours\", \"Scores\")\n",
        "plot_line()\n"
      ],
      "outputs": [],
      "execution_count": null,
      "metadata": {
        "collapsed": true,
        "jupyter": {
          "source_hidden": false,
          "outputs_hidden": false
        },
        "nteract": {
          "transient": {
            "deleting": false
          }
        }
      }
    },
    {
      "cell_type": "markdown",
      "source": [
        "## Now if student studies 9.25 hours how many marks would he gain?\n",
        "For this prediction use the above trained LinearRegression model"
      ],
      "metadata": {
        "nteract": {
          "transient": {
            "deleting": false
          }
        }
      }
    },
    {
      "cell_type": "code",
      "source": [
        "hours = 9.25\n",
        "pred_marks = model.predict([[hours]])\n",
        "print(f\"The student obtains {int(pred_marks[0])} marks if he studies {hours} hours.\")"
      ],
      "outputs": [],
      "execution_count": null,
      "metadata": {
        "collapsed": true,
        "jupyter": {
          "source_hidden": false,
          "outputs_hidden": false
        },
        "nteract": {
          "transient": {
            "deleting": false
          }
        }
      }
    },
    {
      "cell_type": "markdown",
      "source": [
        "## Model evaluation\n",
        "Calculating mean_absolute_error"
      ],
      "metadata": {
        "nteract": {
          "transient": {
            "deleting": false
          }
        }
      }
    },
    {
      "cell_type": "code",
      "source": [
        "print(f\"Model has {mean_absolute_error(y_test, y_pred)} of MAE.\")"
      ],
      "outputs": [],
      "execution_count": null,
      "metadata": {
        "collapsed": true,
        "jupyter": {
          "source_hidden": false,
          "outputs_hidden": false
        },
        "nteract": {
          "transient": {
            "deleting": false
          }
        }
      }
    }
  ],
  "metadata": {
    "kernelspec": {
      "argv": [
        "C:\\Users\\Syed Arsalan Amin\\anaconda3\\envs\\tf2.3\\python.exe",
        "-m",
        "ipykernel_launcher",
        "-f",
        "{connection_file}"
      ],
      "display_name": "tf2.3",
      "language": "python",
      "name": "tf2.3"
    }
  },
  "nbformat": 4,
  "nbformat_minor": 0
}